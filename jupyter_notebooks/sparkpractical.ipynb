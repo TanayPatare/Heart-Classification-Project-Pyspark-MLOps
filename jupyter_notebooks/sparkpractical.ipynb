{
 "cells": [
  {
   "cell_type": "code",
   "execution_count": 1,
   "metadata": {},
   "outputs": [],
   "source": [
    "from pyspark.sql import SparkSession\n",
    "from pyspark.sql.types import *"
   ]
  },
  {
   "cell_type": "code",
   "execution_count": 2,
   "metadata": {},
   "outputs": [],
   "source": [
    "spark = SparkSession.builder.appName(\"demo\").getOrCreate()"
   ]
  },
  {
   "cell_type": "code",
   "execution_count": 3,
   "metadata": {},
   "outputs": [
    {
     "data": {
      "text/html": [
       "\n",
       "            <div>\n",
       "                <p><b>SparkSession - in-memory</b></p>\n",
       "                \n",
       "        <div>\n",
       "            <p><b>SparkContext</b></p>\n",
       "\n",
       "            <p><a href=\"http://DESKTOP-ONEK9CT:4040\">Spark UI</a></p>\n",
       "\n",
       "            <dl>\n",
       "              <dt>Version</dt>\n",
       "                <dd><code>v3.2.1</code></dd>\n",
       "              <dt>Master</dt>\n",
       "                <dd><code>local[*]</code></dd>\n",
       "              <dt>AppName</dt>\n",
       "                <dd><code>demo</code></dd>\n",
       "            </dl>\n",
       "        </div>\n",
       "        \n",
       "            </div>\n",
       "        "
      ],
      "text/plain": [
       "<pyspark.sql.session.SparkSession at 0x2423c28e400>"
      ]
     },
     "execution_count": 3,
     "metadata": {},
     "output_type": "execute_result"
    }
   ],
   "source": [
    "spark"
   ]
  },
  {
   "cell_type": "code",
   "execution_count": 4,
   "metadata": {},
   "outputs": [],
   "source": [
    "schema = StructType([\n",
    "    StructField(\"fixed acidity\", FloatType(),nullable=True),\n",
    "    StructField(\"volatile acidity\", FloatType(),nullable=True),\n",
    "    StructField(\"citric acid\", FloatType(),nullable=True),\n",
    "    StructField(\"residual sugar\", FloatType(),nullable=True),\n",
    "    StructField(\"chlorides\", FloatType(),nullable=True),\n",
    "    StructField(\"free sulfur dioxide\", FloatType(),nullable=True),\n",
    "    StructField(\"total sulfur dioxide\", FloatType(),nullable=True),\n",
    "    StructField(\"density\", FloatType(),nullable=True),\n",
    "    StructField(\"pH\", FloatType(),nullable=True),\n",
    "    StructField(\"sulphates\", FloatType(),nullable=True),\n",
    "    StructField(\"alcohol\", FloatType(),nullable=True),\n",
    "    StructField(\"quality\", StringType(),nullable=True),\n",
    "])"
   ]
  },
  {
   "cell_type": "code",
   "execution_count": 6,
   "metadata": {},
   "outputs": [],
   "source": [
    "path = \"wine.csv\"\n",
    "df = spark.read.csv(path=path,schema=schema,header=True)"
   ]
  },
  {
   "cell_type": "code",
   "execution_count": 7,
   "metadata": {},
   "outputs": [
    {
     "name": "stdout",
     "output_type": "stream",
     "text": [
      "+-------------+----------------+-----------+--------------+---------+-------------------+--------------------+-------+----+---------+-------+-------+\n",
      "|fixed acidity|volatile acidity|citric acid|residual sugar|chlorides|free sulfur dioxide|total sulfur dioxide|density|  pH|sulphates|alcohol|quality|\n",
      "+-------------+----------------+-----------+--------------+---------+-------------------+--------------------+-------+----+---------+-------+-------+\n",
      "|          7.4|             0.7|        0.0|           1.9|    0.076|               11.0|                34.0| 0.9978|3.51|     0.56|    9.4|    bad|\n",
      "|          7.8|            0.88|        0.0|           2.6|    0.098|               25.0|                67.0| 0.9968| 3.2|     0.68|    9.8|    bad|\n",
      "|          7.8|            0.76|       0.04|           2.3|    0.092|               15.0|                54.0|  0.997|3.26|     0.65|    9.8|    bad|\n",
      "|         11.2|            0.28|       0.56|           1.9|    0.075|               17.0|                60.0|  0.998|3.16|     0.58|    9.8|   good|\n",
      "|          7.4|             0.7|        0.0|           1.9|    0.076|               11.0|                34.0| 0.9978|3.51|     0.56|    9.4|    bad|\n",
      "+-------------+----------------+-----------+--------------+---------+-------------------+--------------------+-------+----+---------+-------+-------+\n",
      "only showing top 5 rows\n",
      "\n"
     ]
    }
   ],
   "source": [
    "df.show(5)"
   ]
  },
  {
   "cell_type": "code",
   "execution_count": 8,
   "metadata": {},
   "outputs": [
    {
     "data": {
      "text/plain": [
       "['fixed acidity',\n",
       " 'volatile acidity',\n",
       " 'citric acid',\n",
       " 'residual sugar',\n",
       " 'chlorides',\n",
       " 'free sulfur dioxide',\n",
       " 'total sulfur dioxide',\n",
       " 'density',\n",
       " 'pH',\n",
       " 'sulphates',\n",
       " 'alcohol',\n",
       " 'quality']"
      ]
     },
     "execution_count": 8,
     "metadata": {},
     "output_type": "execute_result"
    }
   ],
   "source": [
    "df.columns"
   ]
  },
  {
   "cell_type": "code",
   "execution_count": 9,
   "metadata": {},
   "outputs": [
    {
     "name": "stdout",
     "output_type": "stream",
     "text": [
      "root\n",
      " |-- fixed acidity: float (nullable = true)\n",
      " |-- volatile acidity: float (nullable = true)\n",
      " |-- citric acid: float (nullable = true)\n",
      " |-- residual sugar: float (nullable = true)\n",
      " |-- chlorides: float (nullable = true)\n",
      " |-- free sulfur dioxide: float (nullable = true)\n",
      " |-- total sulfur dioxide: float (nullable = true)\n",
      " |-- density: float (nullable = true)\n",
      " |-- pH: float (nullable = true)\n",
      " |-- sulphates: float (nullable = true)\n",
      " |-- alcohol: float (nullable = true)\n",
      " |-- quality: string (nullable = true)\n",
      "\n"
     ]
    }
   ],
   "source": [
    "df.printSchema()"
   ]
  },
  {
   "cell_type": "code",
   "execution_count": 10,
   "metadata": {},
   "outputs": [
    {
     "name": "stdout",
     "output_type": "stream",
     "text": [
      "+-------------+----------------+-----------+--------------+---------+-------------------+--------------------+-------+---+---------+-------+-------+\n",
      "|fixed acidity|volatile acidity|citric acid|residual sugar|chlorides|free sulfur dioxide|total sulfur dioxide|density| pH|sulphates|alcohol|quality|\n",
      "+-------------+----------------+-----------+--------------+---------+-------------------+--------------------+-------+---+---------+-------+-------+\n",
      "|            0|               0|          0|             0|        0|                  0|                   0|      0|  0|        0|      0|      0|\n",
      "+-------------+----------------+-----------+--------------+---------+-------------------+--------------------+-------+---+---------+-------+-------+\n",
      "\n"
     ]
    }
   ],
   "source": [
    "from pyspark.sql.functions import count,isnan,isnull,when,col\n",
    "df.select([count(when(isnan(c) | col(c).isNull(), c)).alias(c) for c in df.columns]).show()"
   ]
  },
  {
   "cell_type": "code",
   "execution_count": 11,
   "metadata": {},
   "outputs": [
    {
     "name": "stdout",
     "output_type": "stream",
     "text": [
      "+-------+------------------+-------------------+-------------------+------------------+-------------------+-------------------+--------------------+--------------------+-------------------+-------------------+------------------+-------+\n",
      "|summary|     fixed acidity|   volatile acidity|        citric acid|    residual sugar|          chlorides|free sulfur dioxide|total sulfur dioxide|             density|                 pH|          sulphates|           alcohol|quality|\n",
      "+-------+------------------+-------------------+-------------------+------------------+-------------------+-------------------+--------------------+--------------------+-------------------+-------------------+------------------+-------+\n",
      "|  count|              1599|               1599|               1599|              1599|               1599|               1599|                1599|                1599|               1599|               1599|              1599|   1599|\n",
      "|   mean|  8.31963727204333| 0.5278205118742565|0.27097560946082344|2.5388054955072743|0.08746654185244558| 15.874921826141339|   46.46779237023139|  0.9967466800044371| 3.3111131965107585| 0.6581488421292809|10.422983095003262|   null|\n",
      "| stddev|1.7410963179910275|0.17905970357107073|0.19480113735645493|1.4099280590834145|0.04706530186883863|  10.46015696980971|   32.89532447829907|0.001887335252223...|0.15438646318792024|0.16950698014899196|1.0656675859276652|   null|\n",
      "|    min|               4.6|               0.12|                0.0|               0.9|              0.012|                1.0|                 6.0|             0.99007|               2.74|               0.33|               8.4|    bad|\n",
      "|    25%|               7.1|               0.39|               0.09|               1.9|               0.07|                7.0|                22.0|              0.9956|               3.21|               0.55|               9.5|   null|\n",
      "|    50%|               7.9|               0.52|               0.26|               2.2|              0.079|               14.0|                38.0|             0.99675|               3.31|               0.62|              10.2|   null|\n",
      "|    75%|               9.2|               0.64|               0.42|               2.6|               0.09|               21.0|                62.0|             0.99784|                3.4|               0.73|              11.1|   null|\n",
      "|    max|              15.9|               1.58|                1.0|              15.5|              0.611|               72.0|               289.0|             1.00369|               4.01|                2.0|              14.9|   good|\n",
      "+-------+------------------+-------------------+-------------------+------------------+-------------------+-------------------+--------------------+--------------------+-------------------+-------------------+------------------+-------+\n",
      "\n"
     ]
    }
   ],
   "source": [
    "df.summary().show()"
   ]
  },
  {
   "cell_type": "code",
   "execution_count": 12,
   "metadata": {},
   "outputs": [
    {
     "data": {
      "text/plain": [
       "DataFrame[fixed acidity: float, volatile acidity: float, citric acid: float, residual sugar: float, chlorides: float, free sulfur dioxide: float, total sulfur dioxide: float, density: float, pH: float, sulphates: float, alcohol: float, quality: string]"
      ]
     },
     "execution_count": 12,
     "metadata": {},
     "output_type": "execute_result"
    }
   ],
   "source": [
    "df.dropna(how=\"any\")"
   ]
  },
  {
   "cell_type": "code",
   "execution_count": 13,
   "metadata": {},
   "outputs": [
    {
     "data": {
      "text/plain": [
       "DataFrame[fixed acidity: float, volatile acidity: float, citric acid: float, residual sugar: float, chlorides: float, free sulfur dioxide: float, total sulfur dioxide: float, density: float, pH: float, sulphates: float, alcohol: float, quality: string]"
      ]
     },
     "execution_count": 13,
     "metadata": {},
     "output_type": "execute_result"
    }
   ],
   "source": [
    "df.dropDuplicates()"
   ]
  },
  {
   "cell_type": "code",
   "execution_count": 14,
   "metadata": {},
   "outputs": [
    {
     "name": "stdout",
     "output_type": "stream",
     "text": [
      "^C\n"
     ]
    },
    {
     "name": "stdout",
     "output_type": "stream",
     "text": [
      "Requirement already satisfied: numpy in e:\\projects\\spark-project\\venv\\lib\\site-packages (1.24.2)\n"
     ]
    }
   ],
   "source": [
    "!pip install numpy"
   ]
  },
  {
   "cell_type": "code",
   "execution_count": 15,
   "metadata": {},
   "outputs": [],
   "source": [
    "import numpy as np\n",
    "from pyspark.ml.feature import StringIndexer"
   ]
  },
  {
   "cell_type": "code",
   "execution_count": 16,
   "metadata": {},
   "outputs": [
    {
     "name": "stdout",
     "output_type": "stream",
     "text": [
      "+-------------+----------------+-----------+--------------+---------+-------------------+--------------------+-------+----+---------+-------+-------+-------------+\n",
      "|fixed acidity|volatile acidity|citric acid|residual sugar|chlorides|free sulfur dioxide|total sulfur dioxide|density|  pH|sulphates|alcohol|quality|quality_Index|\n",
      "+-------------+----------------+-----------+--------------+---------+-------------------+--------------------+-------+----+---------+-------+-------+-------------+\n",
      "|          7.4|             0.7|        0.0|           1.9|    0.076|               11.0|                34.0| 0.9978|3.51|     0.56|    9.4|    bad|          1.0|\n",
      "|          7.8|            0.88|        0.0|           2.6|    0.098|               25.0|                67.0| 0.9968| 3.2|     0.68|    9.8|    bad|          1.0|\n",
      "|          7.8|            0.76|       0.04|           2.3|    0.092|               15.0|                54.0|  0.997|3.26|     0.65|    9.8|    bad|          1.0|\n",
      "|         11.2|            0.28|       0.56|           1.9|    0.075|               17.0|                60.0|  0.998|3.16|     0.58|    9.8|   good|          0.0|\n",
      "|          7.4|             0.7|        0.0|           1.9|    0.076|               11.0|                34.0| 0.9978|3.51|     0.56|    9.4|    bad|          1.0|\n",
      "|          7.4|            0.66|        0.0|           1.8|    0.075|               13.0|                40.0| 0.9978|3.51|     0.56|    9.4|    bad|          1.0|\n",
      "|          7.9|             0.6|       0.06|           1.6|    0.069|               15.0|                59.0| 0.9964| 3.3|     0.46|    9.4|    bad|          1.0|\n",
      "|          7.3|            0.65|        0.0|           1.2|    0.065|               15.0|                21.0| 0.9946|3.39|     0.47|   10.0|   good|          0.0|\n",
      "|          7.8|            0.58|       0.02|           2.0|    0.073|                9.0|                18.0| 0.9968|3.36|     0.57|    9.5|   good|          0.0|\n",
      "|          7.5|             0.5|       0.36|           6.1|    0.071|               17.0|               102.0| 0.9978|3.35|      0.8|   10.5|    bad|          1.0|\n",
      "|          6.7|            0.58|       0.08|           1.8|    0.097|               15.0|                65.0| 0.9959|3.28|     0.54|    9.2|    bad|          1.0|\n",
      "|          7.5|             0.5|       0.36|           6.1|    0.071|               17.0|               102.0| 0.9978|3.35|      0.8|   10.5|    bad|          1.0|\n",
      "|          5.6|           0.615|        0.0|           1.6|    0.089|               16.0|                59.0| 0.9943|3.58|     0.52|    9.9|    bad|          1.0|\n",
      "|          7.8|            0.61|       0.29|           1.6|    0.114|                9.0|                29.0| 0.9974|3.26|     1.56|    9.1|    bad|          1.0|\n",
      "|          8.9|            0.62|       0.18|           3.8|    0.176|               52.0|               145.0| 0.9986|3.16|     0.88|    9.2|    bad|          1.0|\n",
      "|          8.9|            0.62|       0.19|           3.9|     0.17|               51.0|               148.0| 0.9986|3.17|     0.93|    9.2|    bad|          1.0|\n",
      "|          8.5|            0.28|       0.56|           1.8|    0.092|               35.0|               103.0| 0.9969| 3.3|     0.75|   10.5|   good|          0.0|\n",
      "|          8.1|            0.56|       0.28|           1.7|    0.368|               16.0|                56.0| 0.9968|3.11|     1.28|    9.3|    bad|          1.0|\n",
      "|          7.4|            0.59|       0.08|           4.4|    0.086|                6.0|                29.0| 0.9974|3.38|      0.5|    9.0|    bad|          1.0|\n",
      "|          7.9|            0.32|       0.51|           1.8|    0.341|               17.0|                56.0| 0.9969|3.04|     1.08|    9.2|   good|          0.0|\n",
      "+-------------+----------------+-----------+--------------+---------+-------------------+--------------------+-------+----+---------+-------+-------+-------------+\n",
      "only showing top 20 rows\n",
      "\n"
     ]
    }
   ],
   "source": [
    "indexer = StringIndexer(inputCol=\"quality\", outputCol=\"quality_Index\")\n",
    "df2 = indexer.fit(df).transform(df)\n",
    "df2.show()"
   ]
  },
  {
   "cell_type": "code",
   "execution_count": 17,
   "metadata": {},
   "outputs": [],
   "source": [
    "from pyspark.sql.functions import *"
   ]
  },
  {
   "cell_type": "code",
   "execution_count": 18,
   "metadata": {},
   "outputs": [
    {
     "data": {
      "text/plain": [
       "['fixed acidity',\n",
       " 'volatile acidity',\n",
       " 'citric acid',\n",
       " 'residual sugar',\n",
       " 'chlorides',\n",
       " 'free sulfur dioxide',\n",
       " 'total sulfur dioxide',\n",
       " 'density',\n",
       " 'pH',\n",
       " 'sulphates',\n",
       " 'alcohol',\n",
       " 'quality']"
      ]
     },
     "execution_count": 18,
     "metadata": {},
     "output_type": "execute_result"
    }
   ],
   "source": [
    "df.columns"
   ]
  },
  {
   "cell_type": "code",
   "execution_count": 19,
   "metadata": {},
   "outputs": [],
   "source": [
    "df2 = df2.drop(\"quality\")"
   ]
  },
  {
   "cell_type": "code",
   "execution_count": 20,
   "metadata": {},
   "outputs": [
    {
     "name": "stdout",
     "output_type": "stream",
     "text": [
      "root\n",
      " |-- fixed acidity: float (nullable = true)\n",
      " |-- volatile acidity: float (nullable = true)\n",
      " |-- citric acid: float (nullable = true)\n",
      " |-- residual sugar: float (nullable = true)\n",
      " |-- chlorides: float (nullable = true)\n",
      " |-- free sulfur dioxide: float (nullable = true)\n",
      " |-- total sulfur dioxide: float (nullable = true)\n",
      " |-- density: float (nullable = true)\n",
      " |-- pH: float (nullable = true)\n",
      " |-- sulphates: float (nullable = true)\n",
      " |-- alcohol: float (nullable = true)\n",
      " |-- quality_Index: double (nullable = false)\n",
      "\n"
     ]
    }
   ],
   "source": [
    "df2.printSchema()"
   ]
  },
  {
   "cell_type": "code",
   "execution_count": 21,
   "metadata": {},
   "outputs": [
    {
     "name": "stdout",
     "output_type": "stream",
     "text": [
      "fixed acidity   : -0.09509348889944476\n",
      "volatile acidity   : 0.3214408560424918\n",
      "citric acid   : -0.15912940741184622\n",
      "residual sugar   : 0.002160450924422744\n",
      "chlorides   : 0.10949399522667415\n",
      "free sulfur dioxide   : 0.06175674399891035\n",
      "total sulfur dioxide   : 0.23196297573870725\n",
      "density   : 0.15910977328405826\n",
      "pH   : 0.0032639935724002836\n",
      "sulphates   : -0.2180716662476898\n",
      "alcohol   : -0.4347512093468429\n",
      "quality_Index   : 1.0\n"
     ]
    }
   ],
   "source": [
    "for i in df2.columns:\n",
    "    print(i,\" \",\":\",df2.stat.corr(i,\"quality_Index\"))"
   ]
  },
  {
   "cell_type": "code",
   "execution_count": 22,
   "metadata": {},
   "outputs": [],
   "source": [
    "x=df2[[ 'volatile acidity',\n",
    "       'total sulfur dioxide',\"sulphates\",   \n",
    "        'alcohol','quality_Index']]"
   ]
  },
  {
   "cell_type": "code",
   "execution_count": 23,
   "metadata": {},
   "outputs": [
    {
     "name": "stdout",
     "output_type": "stream",
     "text": [
      "root\n",
      " |-- volatile acidity: float (nullable = true)\n",
      " |-- total sulfur dioxide: float (nullable = true)\n",
      " |-- sulphates: float (nullable = true)\n",
      " |-- alcohol: float (nullable = true)\n",
      " |-- quality_Index: double (nullable = false)\n",
      "\n"
     ]
    }
   ],
   "source": [
    "x.printSchema()"
   ]
  },
  {
   "cell_type": "code",
   "execution_count": 24,
   "metadata": {},
   "outputs": [
    {
     "data": {
      "text/plain": [
       "['volatile acidity',\n",
       " 'total sulfur dioxide',\n",
       " 'sulphates',\n",
       " 'alcohol',\n",
       " 'quality_Index']"
      ]
     },
     "execution_count": 24,
     "metadata": {},
     "output_type": "execute_result"
    }
   ],
   "source": [
    "x.columns"
   ]
  },
  {
   "cell_type": "code",
   "execution_count": 25,
   "metadata": {},
   "outputs": [
    {
     "data": {
      "text/plain": [
       "5"
      ]
     },
     "execution_count": 25,
     "metadata": {},
     "output_type": "execute_result"
    }
   ],
   "source": [
    "len(x.columns)"
   ]
  },
  {
   "cell_type": "code",
   "execution_count": 26,
   "metadata": {},
   "outputs": [],
   "source": [
    "from pyspark.ml.feature import *"
   ]
  },
  {
   "cell_type": "code",
   "execution_count": 27,
   "metadata": {},
   "outputs": [],
   "source": [
    "feature = VectorAssembler(inputCols = x.columns[:len(x.columns)-1],outputCol=\"features\")\n",
    "feature_vector= feature.transform(x)"
   ]
  },
  {
   "cell_type": "code",
   "execution_count": 28,
   "metadata": {},
   "outputs": [
    {
     "name": "stdout",
     "output_type": "stream",
     "text": [
      "+----------------+--------------------+---------+-------+-------------+--------------------+\n",
      "|volatile acidity|total sulfur dioxide|sulphates|alcohol|quality_Index|            features|\n",
      "+----------------+--------------------+---------+-------+-------------+--------------------+\n",
      "|             0.7|                34.0|     0.56|    9.4|          1.0|[0.69999998807907...|\n",
      "|            0.88|                67.0|     0.68|    9.8|          1.0|[0.87999999523162...|\n",
      "|            0.76|                54.0|     0.65|    9.8|          1.0|[0.75999999046325...|\n",
      "|            0.28|                60.0|     0.58|    9.8|          0.0|[0.28000000119209...|\n",
      "|             0.7|                34.0|     0.56|    9.4|          1.0|[0.69999998807907...|\n",
      "+----------------+--------------------+---------+-------+-------------+--------------------+\n",
      "only showing top 5 rows\n",
      "\n"
     ]
    }
   ],
   "source": [
    "feature_vector.show(5)"
   ]
  },
  {
   "cell_type": "code",
   "execution_count": 29,
   "metadata": {},
   "outputs": [],
   "source": [
    "feature_vector_select = feature_vector.select(['features','quality_Index'])"
   ]
  },
  {
   "cell_type": "code",
   "execution_count": 30,
   "metadata": {},
   "outputs": [],
   "source": [
    "# for data split in pyspark, we can use df.randomSplit()\n",
    "(x_train, x_test) = feature_vector_select.randomSplit([0.8, 0.2])"
   ]
  },
  {
   "cell_type": "code",
   "execution_count": 31,
   "metadata": {},
   "outputs": [
    {
     "name": "stdout",
     "output_type": "stream",
     "text": [
      "root\n",
      " |-- features: vector (nullable = true)\n",
      " |-- quality_Index: double (nullable = false)\n",
      "\n"
     ]
    }
   ],
   "source": [
    "x_train.printSchema()"
   ]
  },
  {
   "cell_type": "code",
   "execution_count": 32,
   "metadata": {},
   "outputs": [
    {
     "data": {
      "text/plain": [
       "[Row(features=DenseVector([0.16, 31.0, 0.54, 12.4]))]"
      ]
     },
     "execution_count": 32,
     "metadata": {},
     "output_type": "execute_result"
    }
   ],
   "source": [
    "y = x_train.select(\"features\")\n",
    "z = y.take(1)\n",
    "z\n"
   ]
  },
  {
   "cell_type": "code",
   "execution_count": 33,
   "metadata": {},
   "outputs": [],
   "source": [
    "from pyspark.ml.classification import RandomForestClassifier\n",
    "from pyspark.ml.tuning import ParamGridBuilder, TrainValidationSplit"
   ]
  },
  {
   "cell_type": "code",
   "execution_count": 34,
   "metadata": {},
   "outputs": [],
   "source": [
    "rf = RandomForestClassifier(labelCol='quality_Index',featuresCol=\"features\")"
   ]
  },
  {
   "cell_type": "code",
   "execution_count": 35,
   "metadata": {},
   "outputs": [],
   "source": [
    "model = rf.fit(x_train)"
   ]
  },
  {
   "cell_type": "code",
   "execution_count": 36,
   "metadata": {},
   "outputs": [
    {
     "name": "stdout",
     "output_type": "stream",
     "text": [
      "+--------------------+-------------+--------------------+--------------------+----------+\n",
      "|            features|quality_Index|       rawPrediction|         probability|prediction|\n",
      "+--------------------+-------------+--------------------+--------------------+----------+\n",
      "|[0.11999999731779...|          0.0|[18.4667343109149...|[0.92333671554574...|       0.0|\n",
      "|[0.11999999731779...|          0.0|[18.4667343109149...|[0.92333671554574...|       0.0|\n",
      "|[0.11999999731779...|          0.0|[18.4667343109149...|[0.92333671554574...|       0.0|\n",
      "|[0.18000000715255...|          1.0|[16.8771280658719...|[0.84385640329359...|       0.0|\n",
      "|[0.18000000715255...|          0.0|[15.2622817420512...|[0.76311408710255...|       0.0|\n",
      "+--------------------+-------------+--------------------+--------------------+----------+\n",
      "only showing top 5 rows\n",
      "\n"
     ]
    }
   ],
   "source": [
    "prediction = model.transform(x_test)\n",
    "prediction.show(5)"
   ]
  },
  {
   "cell_type": "code",
   "execution_count": 37,
   "metadata": {},
   "outputs": [],
   "source": [
    "from pyspark.ml.evaluation import MulticlassClassificationEvaluator"
   ]
  },
  {
   "cell_type": "code",
   "execution_count": 38,
   "metadata": {},
   "outputs": [
    {
     "name": "stdout",
     "output_type": "stream",
     "text": [
      "Accuracy:  0.782051282051282\n"
     ]
    }
   ],
   "source": [
    "print('Accuracy: ', MulticlassClassificationEvaluator(labelCol='quality_Index',predictionCol=\"prediction\",metricName='accuracy').evaluate(prediction))"
   ]
  },
  {
   "cell_type": "code",
   "execution_count": 84,
   "metadata": {},
   "outputs": [],
   "source": [
    "paramGrid = ParamGridBuilder()\\\n",
    "                                .addGrid(rf.maxDepth, [5, 10, 20]) \\\n",
    "                                .addGrid(rf.maxBins, [20, 32, 50]) \\\n",
    "                                .addGrid(rf.numTrees, [20, 40, 60 ]) \\\n",
    "                                .addGrid(rf.impurity, [\"gini\", \"entropy\"]) \\\n",
    "                                .addGrid(rf.minInstancesPerNode, [1, 5, 10]) \\\n",
    "                                .build()"
   ]
  },
  {
   "cell_type": "code",
   "execution_count": 85,
   "metadata": {},
   "outputs": [
    {
     "name": "stderr",
     "output_type": "stream",
     "text": [
      "23/02/01 14:06:48 WARN DAGScheduler: Broadcasting large task binary with size 1217.1 KiB\n",
      "23/02/01 14:06:53 WARN DAGScheduler: Broadcasting large task binary with size 1106.6 KiB\n",
      "23/02/01 14:06:57 WARN DAGScheduler: Broadcasting large task binary with size 1079.7 KiB\n",
      "23/02/01 14:06:57 WARN DAGScheduler: Broadcasting large task binary with size 1437.2 KiB\n",
      "23/02/01 14:06:58 WARN DAGScheduler: Broadcasting large task binary with size 1796.9 KiB\n",
      "23/02/01 14:06:58 WARN DAGScheduler: Broadcasting large task binary with size 1297.0 KiB\n",
      "23/02/01 14:07:00 WARN DAGScheduler: Broadcasting large task binary with size 1198.8 KiB\n",
      "23/02/01 14:07:00 WARN DAGScheduler: Broadcasting large task binary with size 1398.2 KiB\n",
      "23/02/01 14:07:02 WARN DAGScheduler: Broadcasting large task binary with size 1004.5 KiB\n",
      "23/02/01 14:07:03 WARN DAGScheduler: Broadcasting large task binary with size 1287.8 KiB\n",
      "23/02/01 14:07:04 WARN DAGScheduler: Broadcasting large task binary with size 1610.0 KiB\n",
      "23/02/01 14:07:04 WARN DAGScheduler: Broadcasting large task binary with size 1175.8 KiB\n",
      "23/02/01 14:07:05 WARN DAGScheduler: Broadcasting large task binary with size 1107.3 KiB\n",
      "23/02/01 14:07:05 WARN DAGScheduler: Broadcasting large task binary with size 1297.8 KiB\n",
      "23/02/01 14:07:16 WARN DAGScheduler: Broadcasting large task binary with size 1191.5 KiB\n",
      "23/02/01 14:07:21 WARN DAGScheduler: Broadcasting large task binary with size 1080.8 KiB\n",
      "23/02/01 14:07:25 WARN DAGScheduler: Broadcasting large task binary with size 1069.8 KiB\n",
      "23/02/01 14:07:25 WARN DAGScheduler: Broadcasting large task binary with size 1414.8 KiB\n",
      "23/02/01 14:07:26 WARN DAGScheduler: Broadcasting large task binary with size 1754.6 KiB\n",
      "23/02/01 14:07:26 WARN DAGScheduler: Broadcasting large task binary with size 1283.9 KiB\n",
      "23/02/01 14:07:28 WARN DAGScheduler: Broadcasting large task binary with size 1179.9 KiB\n",
      "23/02/01 14:07:28 WARN DAGScheduler: Broadcasting large task binary with size 1364.3 KiB\n",
      "23/02/01 14:07:32 WARN DAGScheduler: Broadcasting large task binary with size 1274.2 KiB\n",
      "23/02/01 14:07:32 WARN DAGScheduler: Broadcasting large task binary with size 1577.6 KiB\n",
      "23/02/01 14:07:32 WARN DAGScheduler: Broadcasting large task binary with size 1165.9 KiB\n",
      "23/02/01 14:07:34 WARN DAGScheduler: Broadcasting large task binary with size 1090.5 KiB\n",
      "23/02/01 14:07:34 WARN DAGScheduler: Broadcasting large task binary with size 1279.8 KiB\n",
      "23/02/01 14:07:45 WARN DAGScheduler: Broadcasting large task binary with size 1143.7 KiB\n",
      "23/02/01 14:07:55 WARN DAGScheduler: Broadcasting large task binary with size 1030.4 KiB\n",
      "23/02/01 14:07:55 WARN DAGScheduler: Broadcasting large task binary with size 1349.9 KiB\n",
      "23/02/01 14:07:55 WARN DAGScheduler: Broadcasting large task binary with size 1665.0 KiB\n",
      "23/02/01 14:07:56 WARN DAGScheduler: Broadcasting large task binary with size 1236.8 KiB\n",
      "23/02/01 14:07:58 WARN DAGScheduler: Broadcasting large task binary with size 1137.0 KiB\n",
      "23/02/01 14:07:58 WARN DAGScheduler: Broadcasting large task binary with size 1318.3 KiB\n",
      "23/02/01 14:08:02 WARN DAGScheduler: Broadcasting large task binary with size 1194.5 KiB\n",
      "23/02/01 14:08:02 WARN DAGScheduler: Broadcasting large task binary with size 1468.0 KiB\n",
      "23/02/01 14:08:03 WARN DAGScheduler: Broadcasting large task binary with size 1109.7 KiB\n",
      "23/02/01 14:08:04 WARN DAGScheduler: Broadcasting large task binary with size 1029.2 KiB\n",
      "23/02/01 14:08:04 WARN DAGScheduler: Broadcasting large task binary with size 1211.3 KiB\n",
      "23/02/01 14:08:18 WARN DAGScheduler: Broadcasting large task binary with size 1217.1 KiB\n",
      "23/02/01 14:08:18 WARN DAGScheduler: Broadcasting large task binary with size 1420.3 KiB\n",
      "23/02/01 14:08:18 WARN DAGScheduler: Broadcasting large task binary with size 1590.8 KiB\n",
      "23/02/01 14:08:18 WARN DAGScheduler: Broadcasting large task binary with size 1728.7 KiB\n",
      "23/02/01 14:08:18 WARN DAGScheduler: Broadcasting large task binary with size 1831.0 KiB\n",
      "23/02/01 14:08:19 WARN DAGScheduler: Broadcasting large task binary with size 1804.3 KiB\n",
      "23/02/01 14:08:19 WARN DAGScheduler: Broadcasting large task binary with size 1710.1 KiB\n",
      "23/02/01 14:08:19 WARN DAGScheduler: Broadcasting large task binary with size 1402.1 KiB\n",
      "23/02/01 14:08:20 WARN DAGScheduler: Broadcasting large task binary with size 1287.0 KiB\n",
      "23/02/01 14:08:21 WARN DAGScheduler: Broadcasting large task binary with size 1019.4 KiB\n",
      "23/02/01 14:08:21 WARN DAGScheduler: Broadcasting large task binary with size 1080.6 KiB\n",
      "23/02/01 14:08:21 WARN DAGScheduler: Broadcasting large task binary with size 1038.7 KiB\n",
      "23/02/01 14:08:25 WARN DAGScheduler: Broadcasting large task binary with size 1106.6 KiB\n",
      "23/02/01 14:08:25 WARN DAGScheduler: Broadcasting large task binary with size 1304.9 KiB\n",
      "23/02/01 14:08:25 WARN DAGScheduler: Broadcasting large task binary with size 1480.8 KiB\n",
      "23/02/01 14:08:25 WARN DAGScheduler: Broadcasting large task binary with size 1628.0 KiB\n",
      "23/02/01 14:08:26 WARN DAGScheduler: Broadcasting large task binary with size 1738.1 KiB\n",
      "23/02/01 14:08:26 WARN DAGScheduler: Broadcasting large task binary with size 1816.6 KiB\n",
      "23/02/01 14:08:26 WARN DAGScheduler: Broadcasting large task binary with size 1871.6 KiB\n",
      "23/02/01 14:08:26 WARN DAGScheduler: Broadcasting large task binary with size 1724.9 KiB\n",
      "23/02/01 14:08:26 WARN DAGScheduler: Broadcasting large task binary with size 1423.2 KiB\n",
      "23/02/01 14:08:27 WARN DAGScheduler: Broadcasting large task binary with size 1270.1 KiB\n",
      "23/02/01 14:08:28 WARN DAGScheduler: Broadcasting large task binary with size 1069.4 KiB\n",
      "23/02/01 14:08:28 WARN DAGScheduler: Broadcasting large task binary with size 1120.2 KiB\n",
      "23/02/01 14:08:32 WARN DAGScheduler: Broadcasting large task binary with size 1079.7 KiB\n",
      "23/02/01 14:08:32 WARN DAGScheduler: Broadcasting large task binary with size 1437.2 KiB\n",
      "23/02/01 14:08:32 WARN DAGScheduler: Broadcasting large task binary with size 1796.9 KiB\n",
      "23/02/01 14:08:33 WARN DAGScheduler: Broadcasting large task binary with size 2.1 MiB\n",
      "23/02/01 14:08:33 WARN DAGScheduler: Broadcasting large task binary with size 2.3 MiB\n",
      "23/02/01 14:08:33 WARN DAGScheduler: Broadcasting large task binary with size 2.5 MiB\n",
      "23/02/01 14:08:34 WARN DAGScheduler: Broadcasting large task binary with size 2.7 MiB\n",
      "23/02/01 14:08:34 WARN DAGScheduler: Broadcasting large task binary with size 2.6 MiB\n",
      "23/02/01 14:08:34 WARN DAGScheduler: Broadcasting large task binary with size 2.4 MiB\n",
      "23/02/01 14:08:34 WARN DAGScheduler: Broadcasting large task binary with size 1671.5 KiB\n",
      "23/02/01 14:08:35 WARN DAGScheduler: Broadcasting large task binary with size 1861.3 KiB\n",
      "23/02/01 14:08:36 WARN DAGScheduler: Broadcasting large task binary with size 1198.8 KiB\n",
      "23/02/01 14:08:37 WARN DAGScheduler: Broadcasting large task binary with size 1398.2 KiB\n",
      "23/02/01 14:08:37 WARN DAGScheduler: Broadcasting large task binary with size 1534.5 KiB\n",
      "23/02/01 14:08:37 WARN DAGScheduler: Broadcasting large task binary with size 1617.5 KiB\n",
      "23/02/01 14:08:37 WARN DAGScheduler: Broadcasting large task binary with size 1504.0 KiB\n",
      "23/02/01 14:08:37 WARN DAGScheduler: Broadcasting large task binary with size 1078.1 KiB\n",
      "23/02/01 14:08:39 WARN DAGScheduler: Broadcasting large task binary with size 1004.5 KiB\n",
      "23/02/01 14:08:39 WARN DAGScheduler: Broadcasting large task binary with size 1001.8 KiB\n",
      "23/02/01 14:08:41 WARN DAGScheduler: Broadcasting large task binary with size 1287.8 KiB\n",
      "23/02/01 14:08:42 WARN DAGScheduler: Broadcasting large task binary with size 1610.0 KiB\n",
      "23/02/01 14:08:42 WARN DAGScheduler: Broadcasting large task binary with size 1918.1 KiB\n",
      "23/02/01 14:08:42 WARN DAGScheduler: Broadcasting large task binary with size 2.1 MiB\n",
      "23/02/01 14:08:42 WARN DAGScheduler: Broadcasting large task binary with size 2.4 MiB\n",
      "23/02/01 14:08:43 WARN DAGScheduler: Broadcasting large task binary with size 2.5 MiB\n",
      "23/02/01 14:08:43 WARN DAGScheduler: Broadcasting large task binary with size 2.7 MiB\n",
      "23/02/01 14:08:43 WARN DAGScheduler: Broadcasting large task binary with size 2.7 MiB\n",
      "23/02/01 14:08:44 WARN DAGScheduler: Broadcasting large task binary with size 2.4 MiB\n",
      "23/02/01 14:08:44 WARN DAGScheduler: Broadcasting large task binary with size 1809.0 KiB\n",
      "23/02/01 14:08:44 WARN DAGScheduler: Broadcasting large task binary with size 1015.8 KiB\n",
      "23/02/01 14:08:44 WARN DAGScheduler: Broadcasting large task binary with size 1848.1 KiB\n",
      "23/02/01 14:08:46 WARN DAGScheduler: Broadcasting large task binary with size 1107.3 KiB\n",
      "23/02/01 14:08:46 WARN DAGScheduler: Broadcasting large task binary with size 1297.8 KiB\n",
      "23/02/01 14:08:46 WARN DAGScheduler: Broadcasting large task binary with size 1451.5 KiB\n",
      "23/02/01 14:08:46 WARN DAGScheduler: Broadcasting large task binary with size 1562.6 KiB\n",
      "23/02/01 14:08:46 WARN DAGScheduler: Broadcasting large task binary with size 1554.1 KiB\n",
      "23/02/01 14:08:47 WARN DAGScheduler: Broadcasting large task binary with size 1465.5 KiB\n",
      "23/02/01 14:08:47 WARN DAGScheduler: Broadcasting large task binary with size 1159.8 KiB\n",
      "23/02/01 14:08:49 WARN DAGScheduler: Broadcasting large task binary with size 1014.8 KiB\n",
      "23/02/01 14:09:01 WARN DAGScheduler: Broadcasting large task binary with size 1191.5 KiB\n",
      "23/02/01 14:09:01 WARN DAGScheduler: Broadcasting large task binary with size 1395.0 KiB\n",
      "23/02/01 14:09:01 WARN DAGScheduler: Broadcasting large task binary with size 1556.6 KiB\n",
      "23/02/01 14:09:01 WARN DAGScheduler: Broadcasting large task binary with size 1677.6 KiB\n",
      "23/02/01 14:09:01 WARN DAGScheduler: Broadcasting large task binary with size 1762.0 KiB\n",
      "23/02/01 14:09:02 WARN DAGScheduler: Broadcasting large task binary with size 1726.5 KiB\n",
      "23/02/01 14:09:02 WARN DAGScheduler: Broadcasting large task binary with size 1412.6 KiB\n",
      "23/02/01 14:09:02 WARN DAGScheduler: Broadcasting large task binary with size 1075.4 KiB\n",
      "23/02/01 14:09:02 WARN DAGScheduler: Broadcasting large task binary with size 1236.6 KiB\n",
      "23/02/01 14:09:04 WARN DAGScheduler: Broadcasting large task binary with size 1023.1 KiB\n",
      "23/02/01 14:09:04 WARN DAGScheduler: Broadcasting large task binary with size 1079.8 KiB\n",
      "23/02/01 14:09:04 WARN DAGScheduler: Broadcasting large task binary with size 1064.8 KiB\n",
      "23/02/01 14:09:08 WARN DAGScheduler: Broadcasting large task binary with size 1080.8 KiB\n",
      "23/02/01 14:09:08 WARN DAGScheduler: Broadcasting large task binary with size 1270.6 KiB\n",
      "23/02/01 14:09:08 WARN DAGScheduler: Broadcasting large task binary with size 1434.9 KiB\n",
      "23/02/01 14:09:09 WARN DAGScheduler: Broadcasting large task binary with size 1568.2 KiB\n",
      "23/02/01 14:09:09 WARN DAGScheduler: Broadcasting large task binary with size 1669.1 KiB\n",
      "23/02/01 14:09:09 WARN DAGScheduler: Broadcasting large task binary with size 1738.1 KiB\n",
      "23/02/01 14:09:09 WARN DAGScheduler: Broadcasting large task binary with size 1742.3 KiB\n",
      "23/02/01 14:09:09 WARN DAGScheduler: Broadcasting large task binary with size 1558.7 KiB\n",
      "23/02/01 14:09:10 WARN DAGScheduler: Broadcasting large task binary with size 1409.8 KiB\n",
      "23/02/01 14:09:10 WARN DAGScheduler: Broadcasting large task binary with size 1025.5 KiB\n",
      "23/02/01 14:09:10 WARN DAGScheduler: Broadcasting large task binary with size 1224.3 KiB\n",
      "23/02/01 14:09:12 WARN DAGScheduler: Broadcasting large task binary with size 1064.3 KiB\n",
      "23/02/01 14:09:12 WARN DAGScheduler: Broadcasting large task binary with size 1110.6 KiB\n",
      "23/02/01 14:09:12 WARN DAGScheduler: Broadcasting large task binary with size 1002.4 KiB\n",
      "23/02/01 14:09:16 WARN DAGScheduler: Broadcasting large task binary with size 1069.8 KiB\n",
      "23/02/01 14:09:16 WARN DAGScheduler: Broadcasting large task binary with size 1414.8 KiB\n",
      "23/02/01 14:09:16 WARN DAGScheduler: Broadcasting large task binary with size 1754.6 KiB\n",
      "23/02/01 14:09:16 WARN DAGScheduler: Broadcasting large task binary with size 2.0 MiB\n",
      "23/02/01 14:09:17 WARN DAGScheduler: Broadcasting large task binary with size 2.3 MiB\n",
      "23/02/01 14:09:17 WARN DAGScheduler: Broadcasting large task binary with size 2.4 MiB\n",
      "23/02/01 14:09:17 WARN DAGScheduler: Broadcasting large task binary with size 2.5 MiB\n",
      "23/02/01 14:09:18 WARN DAGScheduler: Broadcasting large task binary with size 2.4 MiB\n",
      "23/02/01 14:09:18 WARN DAGScheduler: Broadcasting large task binary with size 2032.2 KiB\n",
      "23/02/01 14:09:18 WARN DAGScheduler: Broadcasting large task binary with size 1263.7 KiB\n",
      "23/02/01 14:09:19 WARN DAGScheduler: Broadcasting large task binary with size 1802.9 KiB\n",
      "23/02/01 14:09:20 WARN DAGScheduler: Broadcasting large task binary with size 1179.9 KiB\n",
      "23/02/01 14:09:20 WARN DAGScheduler: Broadcasting large task binary with size 1364.3 KiB\n",
      "23/02/01 14:09:21 WARN DAGScheduler: Broadcasting large task binary with size 1506.2 KiB\n",
      "23/02/01 14:09:21 WARN DAGScheduler: Broadcasting large task binary with size 1567.9 KiB\n",
      "23/02/01 14:09:21 WARN DAGScheduler: Broadcasting large task binary with size 1592.7 KiB\n",
      "23/02/01 14:09:21 WARN DAGScheduler: Broadcasting large task binary with size 1245.4 KiB\n",
      "23/02/01 14:09:25 WARN DAGScheduler: Broadcasting large task binary with size 1274.2 KiB\n",
      "23/02/01 14:09:26 WARN DAGScheduler: Broadcasting large task binary with size 1577.6 KiB\n",
      "23/02/01 14:09:26 WARN DAGScheduler: Broadcasting large task binary with size 1862.9 KiB\n",
      "23/02/01 14:09:26 WARN DAGScheduler: Broadcasting large task binary with size 2.1 MiB\n",
      "23/02/01 14:09:27 WARN DAGScheduler: Broadcasting large task binary with size 2.3 MiB\n",
      "23/02/01 14:09:27 WARN DAGScheduler: Broadcasting large task binary with size 2.4 MiB\n",
      "23/02/01 14:09:27 WARN DAGScheduler: Broadcasting large task binary with size 2.4 MiB\n",
      "23/02/01 14:09:28 WARN DAGScheduler: Broadcasting large task binary with size 2.4 MiB\n",
      "23/02/01 14:09:28 WARN DAGScheduler: Broadcasting large task binary with size 2.0 MiB\n",
      "23/02/01 14:09:28 WARN DAGScheduler: Broadcasting large task binary with size 1433.4 KiB\n",
      "23/02/01 14:09:28 WARN DAGScheduler: Broadcasting large task binary with size 1056.1 KiB\n",
      "23/02/01 14:09:28 WARN DAGScheduler: Broadcasting large task binary with size 1779.6 KiB\n",
      "23/02/01 14:09:30 WARN DAGScheduler: Broadcasting large task binary with size 1090.5 KiB\n",
      "23/02/01 14:09:30 WARN DAGScheduler: Broadcasting large task binary with size 1279.8 KiB\n",
      "23/02/01 14:09:30 WARN DAGScheduler: Broadcasting large task binary with size 1432.5 KiB\n",
      "23/02/01 14:09:31 WARN DAGScheduler: Broadcasting large task binary with size 1544.4 KiB\n",
      "23/02/01 14:09:31 WARN DAGScheduler: Broadcasting large task binary with size 1615.7 KiB\n",
      "23/02/01 14:09:31 WARN DAGScheduler: Broadcasting large task binary with size 1607.5 KiB\n",
      "23/02/01 14:09:31 WARN DAGScheduler: Broadcasting large task binary with size 1251.0 KiB\n",
      "23/02/01 14:09:33 WARN DAGScheduler: Broadcasting large task binary with size 1037.6 KiB\n",
      "23/02/01 14:09:46 WARN DAGScheduler: Broadcasting large task binary with size 1143.7 KiB\n",
      "23/02/01 14:09:46 WARN DAGScheduler: Broadcasting large task binary with size 1331.1 KiB\n",
      "23/02/01 14:09:46 WARN DAGScheduler: Broadcasting large task binary with size 1483.2 KiB\n",
      "23/02/01 14:09:46 WARN DAGScheduler: Broadcasting large task binary with size 1596.7 KiB\n",
      "23/02/01 14:09:47 WARN DAGScheduler: Broadcasting large task binary with size 1638.6 KiB\n",
      "23/02/01 14:09:47 WARN DAGScheduler: Broadcasting large task binary with size 1562.4 KiB\n",
      "23/02/01 14:09:47 WARN DAGScheduler: Broadcasting large task binary with size 1351.2 KiB\n",
      "23/02/01 14:09:47 WARN DAGScheduler: Broadcasting large task binary with size 1115.9 KiB\n",
      "23/02/01 14:09:48 WARN DAGScheduler: Broadcasting large task binary with size 1207.9 KiB\n",
      "23/02/01 14:09:49 WARN DAGScheduler: Broadcasting large task binary with size 1000.1 KiB\n",
      "23/02/01 14:09:49 WARN DAGScheduler: Broadcasting large task binary with size 1063.0 KiB\n",
      "23/02/01 14:09:50 WARN DAGScheduler: Broadcasting large task binary with size 1077.8 KiB\n",
      "23/02/01 14:09:54 WARN DAGScheduler: Broadcasting large task binary with size 1168.7 KiB\n",
      "23/02/01 14:09:54 WARN DAGScheduler: Broadcasting large task binary with size 1321.9 KiB\n",
      "23/02/01 14:09:54 WARN DAGScheduler: Broadcasting large task binary with size 1448.9 KiB\n",
      "23/02/01 14:09:54 WARN DAGScheduler: Broadcasting large task binary with size 1554.8 KiB\n",
      "23/02/01 14:09:55 WARN DAGScheduler: Broadcasting large task binary with size 1589.3 KiB\n",
      "23/02/01 14:09:55 WARN DAGScheduler: Broadcasting large task binary with size 1607.5 KiB\n",
      "23/02/01 14:09:55 WARN DAGScheduler: Broadcasting large task binary with size 1523.1 KiB\n",
      "23/02/01 14:09:55 WARN DAGScheduler: Broadcasting large task binary with size 1124.9 KiB\n",
      "23/02/01 14:09:56 WARN DAGScheduler: Broadcasting large task binary with size 1176.7 KiB\n",
      "23/02/01 14:09:57 WARN DAGScheduler: Broadcasting large task binary with size 1009.6 KiB\n",
      "23/02/01 14:09:58 WARN DAGScheduler: Broadcasting large task binary with size 1044.7 KiB\n",
      "23/02/01 14:09:58 WARN DAGScheduler: Broadcasting large task binary with size 1025.7 KiB\n",
      "23/02/01 14:10:01 WARN DAGScheduler: Broadcasting large task binary with size 1030.4 KiB\n",
      "23/02/01 14:10:02 WARN DAGScheduler: Broadcasting large task binary with size 1349.9 KiB\n",
      "23/02/01 14:10:02 WARN DAGScheduler: Broadcasting large task binary with size 1665.0 KiB\n",
      "23/02/01 14:10:03 WARN DAGScheduler: Broadcasting large task binary with size 1945.3 KiB\n",
      "23/02/01 14:10:03 WARN DAGScheduler: Broadcasting large task binary with size 2.1 MiB\n",
      "23/02/01 14:10:03 WARN DAGScheduler: Broadcasting large task binary with size 2.3 MiB\n",
      "23/02/01 14:10:03 WARN DAGScheduler: Broadcasting large task binary with size 2.4 MiB\n",
      "23/02/01 14:10:04 WARN DAGScheduler: Broadcasting large task binary with size 2.4 MiB\n",
      "23/02/01 14:10:04 WARN DAGScheduler: Broadcasting large task binary with size 2008.1 KiB\n",
      "23/02/01 14:10:04 WARN DAGScheduler: Broadcasting large task binary with size 1540.2 KiB\n",
      "23/02/01 14:10:04 WARN DAGScheduler: Broadcasting large task binary with size 1038.2 KiB\n",
      "23/02/01 14:10:05 WARN DAGScheduler: Broadcasting large task binary with size 1734.6 KiB\n",
      "23/02/01 14:10:06 WARN DAGScheduler: Broadcasting large task binary with size 1137.0 KiB\n",
      "23/02/01 14:10:07 WARN DAGScheduler: Broadcasting large task binary with size 1318.3 KiB\n",
      "23/02/01 14:10:07 WARN DAGScheduler: Broadcasting large task binary with size 1451.4 KiB\n",
      "23/02/01 14:10:07 WARN DAGScheduler: Broadcasting large task binary with size 1545.9 KiB\n",
      "23/02/01 14:10:07 WARN DAGScheduler: Broadcasting large task binary with size 1582.6 KiB\n",
      "23/02/01 14:10:08 WARN DAGScheduler: Broadcasting large task binary with size 1279.4 KiB\n",
      "23/02/01 14:10:08 WARN DAGScheduler: Broadcasting large task binary with size 1016.4 KiB\n",
      "23/02/01 14:10:10 WARN DAGScheduler: Broadcasting large task binary with size 1025.3 KiB\n",
      "23/02/01 14:10:12 WARN DAGScheduler: Broadcasting large task binary with size 1194.5 KiB\n",
      "23/02/01 14:10:13 WARN DAGScheduler: Broadcasting large task binary with size 1468.0 KiB\n",
      "23/02/01 14:10:13 WARN DAGScheduler: Broadcasting large task binary with size 1720.3 KiB\n",
      "23/02/01 14:10:13 WARN DAGScheduler: Broadcasting large task binary with size 1942.0 KiB\n",
      "23/02/01 14:10:13 WARN DAGScheduler: Broadcasting large task binary with size 2.1 MiB\n",
      "23/02/01 14:10:14 WARN DAGScheduler: Broadcasting large task binary with size 2.2 MiB\n",
      "23/02/01 14:10:14 WARN DAGScheduler: Broadcasting large task binary with size 2.3 MiB\n",
      "23/02/01 14:10:14 WARN DAGScheduler: Broadcasting large task binary with size 2.4 MiB\n",
      "23/02/01 14:10:14 WARN DAGScheduler: Broadcasting large task binary with size 2.1 MiB\n",
      "23/02/01 14:10:15 WARN DAGScheduler: Broadcasting large task binary with size 1790.0 KiB\n",
      "23/02/01 14:10:15 WARN DAGScheduler: Broadcasting large task binary with size 1306.5 KiB\n",
      "23/02/01 14:10:15 WARN DAGScheduler: Broadcasting large task binary with size 1694.4 KiB\n",
      "23/02/01 14:10:17 WARN DAGScheduler: Broadcasting large task binary with size 1029.2 KiB\n",
      "23/02/01 14:10:17 WARN DAGScheduler: Broadcasting large task binary with size 1211.3 KiB\n",
      "23/02/01 14:10:17 WARN DAGScheduler: Broadcasting large task binary with size 1362.3 KiB\n",
      "23/02/01 14:10:18 WARN DAGScheduler: Broadcasting large task binary with size 1477.4 KiB\n",
      "23/02/01 14:10:18 WARN DAGScheduler: Broadcasting large task binary with size 1554.4 KiB\n",
      "23/02/01 14:10:18 WARN DAGScheduler: Broadcasting large task binary with size 1501.7 KiB\n",
      "23/02/01 14:10:18 WARN DAGScheduler: Broadcasting large task binary with size 1244.0 KiB\n",
      "23/02/01 14:10:21 WARN DAGScheduler: Broadcasting large task binary with size 1020.8 KiB\n",
      "23/02/01 14:10:23 WARN DAGScheduler: Broadcasting large task binary with size 1108.8 KiB\n",
      "23/02/01 14:10:23 WARN DAGScheduler: Broadcasting large task binary with size 1492.3 KiB\n",
      "23/02/01 14:10:24 WARN DAGScheduler: Broadcasting large task binary with size 1868.0 KiB\n",
      "23/02/01 14:10:24 WARN DAGScheduler: Broadcasting large task binary with size 2.2 MiB\n",
      "23/02/01 14:10:24 WARN DAGScheduler: Broadcasting large task binary with size 2.4 MiB\n",
      "23/02/01 14:10:25 WARN DAGScheduler: Broadcasting large task binary with size 2.6 MiB\n",
      "23/02/01 14:10:25 WARN DAGScheduler: Broadcasting large task binary with size 2.8 MiB\n",
      "23/02/01 14:10:25 WARN DAGScheduler: Broadcasting large task binary with size 2.9 MiB\n",
      "23/02/01 14:10:26 WARN DAGScheduler: Broadcasting large task binary with size 2.6 MiB\n",
      "23/02/01 14:10:26 WARN DAGScheduler: Broadcasting large task binary with size 2022.6 KiB\n",
      "23/02/01 14:10:26 WARN DAGScheduler: Broadcasting large task binary with size 1442.0 KiB\n",
      "23/02/01 14:10:27 WARN DAGScheduler: Broadcasting large task binary with size 2006.2 KiB\n"
     ]
    },
    {
     "name": "stdout",
     "output_type": "stream",
     "text": [
      "Accuracy:  0.8125\n",
      "Precision:  0.812625143020595\n"
     ]
    },
    {
     "name": "stderr",
     "output_type": "stream",
     "text": [
      "23/02/01 14:10:27 WARN DAGScheduler: Broadcasting large task binary with size 2006.2 KiB\n"
     ]
    }
   ],
   "source": [
    "from pyspark.ml.evaluation import MulticlassClassificationEvaluator\n",
    "tvs = TrainValidationSplit( estimator=rf\n",
    "                           ,estimatorParamMaps=paramGrid\n",
    "                           ,evaluator=MulticlassClassificationEvaluator(labelCol='quality_Index')\n",
    "                           ,trainRatio=0.8)\n",
    "model = tvs.fit(x_train)\n",
    "model_predictions= model.transform(x_test)\n",
    "\n",
    "\n",
    "print('Accuracy: ', MulticlassClassificationEvaluator(labelCol='quality_Index',predictionCol=\"prediction\",metricName='accuracy').evaluate(model_predictions))\n",
    "print('Precision: ',MulticlassClassificationEvaluator(labelCol='quality_Index',predictionCol=\"prediction\",metricName='weightedPrecision').evaluate(model_predictions))"
   ]
  },
  {
   "cell_type": "code",
   "execution_count": null,
   "metadata": {},
   "outputs": [],
   "source": []
  }
 ],
 "metadata": {
  "kernelspec": {
   "display_name": "Python 3",
   "language": "python",
   "name": "python3"
  },
  "language_info": {
   "codemirror_mode": {
    "name": "ipython",
    "version": 3
   },
   "file_extension": ".py",
   "mimetype": "text/x-python",
   "name": "python",
   "nbconvert_exporter": "python",
   "pygments_lexer": "ipython3",
   "version": "3.9.0"
  },
  "orig_nbformat": 4,
  "vscode": {
   "interpreter": {
    "hash": "8d56a2e1583cc91001f51b4648654dfeeefc02c3b006ec9b840bc622a1ba33f5"
   }
  }
 },
 "nbformat": 4,
 "nbformat_minor": 2
}
