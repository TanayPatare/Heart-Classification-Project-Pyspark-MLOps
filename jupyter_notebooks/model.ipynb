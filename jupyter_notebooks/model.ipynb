{
 "cells": [
  {
   "cell_type": "code",
   "execution_count": 32,
   "metadata": {},
   "outputs": [],
   "source": [
    "from pyspark.sql import SparkSession\n",
    "from pyspark.sql.types import *"
   ]
  },
  {
   "cell_type": "code",
   "execution_count": 33,
   "metadata": {},
   "outputs": [],
   "source": [
    "spark = SparkSession.builder.appName(\"demo\").getOrCreate()"
   ]
  },
  {
   "cell_type": "code",
   "execution_count": 34,
   "metadata": {},
   "outputs": [],
   "source": [
    "schema = StructType([\n",
    "    StructField(\"age\", IntegerType(),nullable=True),\n",
    "    StructField(\"sex\", IntegerType(),nullable=True),\n",
    "    StructField(\"cp\", IntegerType(),nullable=True),\n",
    "    StructField(\"trestbps\", IntegerType(),nullable=True),\n",
    "    StructField(\"chol\", IntegerType(),nullable=True),\n",
    "    StructField(\"fbs\", IntegerType(),nullable=True),\n",
    "    StructField(\"restecg\", IntegerType(),nullable=True),\n",
    "    StructField(\"thalach\", IntegerType(),nullable=True),\n",
    "    StructField(\"exang\", IntegerType(),nullable=True),\n",
    "    StructField(\"oldpeak\", FloatType(),nullable=True),\n",
    "    StructField(\"slope\", IntegerType(),nullable=True),\n",
    "    StructField(\"ca\", IntegerType(),nullable=True),\n",
    "    StructField(\"thal\", IntegerType(),nullable=True),\n",
    "    StructField(\"target\", IntegerType(),nullable=True),\n",
    "])"
   ]
  },
  {
   "cell_type": "code",
   "execution_count": 35,
   "metadata": {},
   "outputs": [],
   "source": [
    "path = \"heart.csv\"\n",
    "df = spark.read.csv(path=path,schema=schema,header=True)"
   ]
  },
  {
   "cell_type": "code",
   "execution_count": 36,
   "metadata": {},
   "outputs": [
    {
     "name": "stdout",
     "output_type": "stream",
     "text": [
      "+---+---+---+--------+----+---+-------+-------+-----+-------+-----+---+----+------+\n",
      "|age|sex| cp|trestbps|chol|fbs|restecg|thalach|exang|oldpeak|slope| ca|thal|target|\n",
      "+---+---+---+--------+----+---+-------+-------+-----+-------+-----+---+----+------+\n",
      "| 63|  1|  3|     145| 233|  1|      0|    150|    0|    2.3|    0|  0|   1|     1|\n",
      "| 37|  1|  2|     130| 250|  0|      1|    187|    0|    3.5|    0|  0|   2|     1|\n",
      "| 41|  0|  1|     130| 204|  0|      0|    172|    0|    1.4|    2|  0|   2|     1|\n",
      "| 56|  1|  1|     120| 236|  0|      1|    178|    0|    0.8|    2|  0|   2|     1|\n",
      "| 57|  0|  0|     120| 354|  0|      1|    163|    1|    0.6|    2|  0|   2|     1|\n",
      "+---+---+---+--------+----+---+-------+-------+-----+-------+-----+---+----+------+\n",
      "only showing top 5 rows\n",
      "\n"
     ]
    }
   ],
   "source": [
    "df.show(5)"
   ]
  },
  {
   "cell_type": "code",
   "execution_count": 37,
   "metadata": {},
   "outputs": [
    {
     "name": "stdout",
     "output_type": "stream",
     "text": [
      "root\n",
      " |-- age: integer (nullable = true)\n",
      " |-- sex: integer (nullable = true)\n",
      " |-- cp: integer (nullable = true)\n",
      " |-- trestbps: integer (nullable = true)\n",
      " |-- chol: integer (nullable = true)\n",
      " |-- fbs: integer (nullable = true)\n",
      " |-- restecg: integer (nullable = true)\n",
      " |-- thalach: integer (nullable = true)\n",
      " |-- exang: integer (nullable = true)\n",
      " |-- oldpeak: float (nullable = true)\n",
      " |-- slope: integer (nullable = true)\n",
      " |-- ca: integer (nullable = true)\n",
      " |-- thal: integer (nullable = true)\n",
      " |-- target: integer (nullable = true)\n",
      "\n"
     ]
    }
   ],
   "source": [
    "df.printSchema()"
   ]
  },
  {
   "cell_type": "code",
   "execution_count": 38,
   "metadata": {},
   "outputs": [
    {
     "name": "stdout",
     "output_type": "stream",
     "text": [
      "age   : -0.22543871587483838\n",
      "sex   : -0.28093657550176687\n",
      "cp   : 0.4337982615068946\n",
      "trestbps   : -0.14493112849775\n",
      "chol   : -0.08523910513756904\n",
      "fbs   : -0.02804576027271302\n",
      "restecg   : 0.1372295028737732\n",
      "thalach   : 0.4217409338106742\n",
      "exang   : -0.43675708335330315\n",
      "oldpeak   : -0.4306960030062106\n",
      "slope   : 0.34587707824172464\n",
      "ca   : -0.39172399235125244\n",
      "thal   : -0.34402926803830997\n",
      "target   : 1.0\n"
     ]
    }
   ],
   "source": [
    "for i in df.columns:\n",
    "    print(i,\" \",\":\",df.stat.corr(i,\"target\"))"
   ]
  },
  {
   "cell_type": "code",
   "execution_count": 39,
   "metadata": {},
   "outputs": [],
   "source": [
    "data = df[['age', 'trestbps', 'chol', 'thalach', 'oldpeak','sex', 'cp', 'fbs', 'restecg', 'exang', 'slope', 'ca', 'thal','target']]"
   ]
  },
  {
   "cell_type": "code",
   "execution_count": 40,
   "metadata": {},
   "outputs": [
    {
     "name": "stdout",
     "output_type": "stream",
     "text": [
      "+---+--------+----+-------+-------+---+---+---+-------+-----+-----+---+----+------+\n",
      "|age|trestbps|chol|thalach|oldpeak|sex| cp|fbs|restecg|exang|slope| ca|thal|target|\n",
      "+---+--------+----+-------+-------+---+---+---+-------+-----+-----+---+----+------+\n",
      "| 63|     145| 233|    150|    2.3|  1|  3|  1|      0|    0|    0|  0|   1|     1|\n",
      "| 37|     130| 250|    187|    3.5|  1|  2|  0|      1|    0|    0|  0|   2|     1|\n",
      "| 41|     130| 204|    172|    1.4|  0|  1|  0|      0|    0|    2|  0|   2|     1|\n",
      "| 56|     120| 236|    178|    0.8|  1|  1|  0|      1|    0|    2|  0|   2|     1|\n",
      "| 57|     120| 354|    163|    0.6|  0|  0|  0|      1|    1|    2|  0|   2|     1|\n",
      "+---+--------+----+-------+-------+---+---+---+-------+-----+-----+---+----+------+\n",
      "only showing top 5 rows\n",
      "\n"
     ]
    }
   ],
   "source": [
    "data.show(5)"
   ]
  },
  {
   "cell_type": "code",
   "execution_count": 41,
   "metadata": {},
   "outputs": [],
   "source": [
    "from pyspark.ml.feature import *"
   ]
  },
  {
   "cell_type": "code",
   "execution_count": 42,
   "metadata": {},
   "outputs": [],
   "source": [
    "feature = VectorAssembler(inputCols = df.columns[:len(df.columns)-1],outputCol=\"features\")\n",
    "feature_vector= feature.transform(df)"
   ]
  },
  {
   "cell_type": "code",
   "execution_count": 43,
   "metadata": {},
   "outputs": [
    {
     "name": "stdout",
     "output_type": "stream",
     "text": [
      "+---+---+---+--------+----+---+-------+-------+-----+-------+-----+---+----+------+--------------------+\n",
      "|age|sex| cp|trestbps|chol|fbs|restecg|thalach|exang|oldpeak|slope| ca|thal|target|            features|\n",
      "+---+---+---+--------+----+---+-------+-------+-----+-------+-----+---+----+------+--------------------+\n",
      "| 63|  1|  3|     145| 233|  1|      0|    150|    0|    2.3|    0|  0|   1|     1|[63.0,1.0,3.0,145...|\n",
      "| 37|  1|  2|     130| 250|  0|      1|    187|    0|    3.5|    0|  0|   2|     1|[37.0,1.0,2.0,130...|\n",
      "| 41|  0|  1|     130| 204|  0|      0|    172|    0|    1.4|    2|  0|   2|     1|[41.0,0.0,1.0,130...|\n",
      "| 56|  1|  1|     120| 236|  0|      1|    178|    0|    0.8|    2|  0|   2|     1|[56.0,1.0,1.0,120...|\n",
      "| 57|  0|  0|     120| 354|  0|      1|    163|    1|    0.6|    2|  0|   2|     1|[57.0,0.0,0.0,120...|\n",
      "+---+---+---+--------+----+---+-------+-------+-----+-------+-----+---+----+------+--------------------+\n",
      "only showing top 5 rows\n",
      "\n"
     ]
    }
   ],
   "source": [
    "feature_vector.show(5)"
   ]
  },
  {
   "cell_type": "code",
   "execution_count": 44,
   "metadata": {},
   "outputs": [],
   "source": [
    "pandasDF = feature_vector.toPandas()"
   ]
  },
  {
   "cell_type": "code",
   "execution_count": 45,
   "metadata": {},
   "outputs": [],
   "source": [
    "feature_vector_select = feature_vector.select(['features','target'])"
   ]
  },
  {
   "cell_type": "code",
   "execution_count": 46,
   "metadata": {},
   "outputs": [],
   "source": [
    "(x_train, x_test) = feature_vector_select.randomSplit([0.8, 0.2])"
   ]
  },
  {
   "cell_type": "code",
   "execution_count": 47,
   "metadata": {},
   "outputs": [
    {
     "data": {
      "text/plain": [
       "pyspark.sql.dataframe.DataFrame"
      ]
     },
     "execution_count": 47,
     "metadata": {},
     "output_type": "execute_result"
    }
   ],
   "source": [
    "type(x_train)"
   ]
  },
  {
   "cell_type": "code",
   "execution_count": 48,
   "metadata": {},
   "outputs": [],
   "source": [
    "from pyspark.ml.classification import RandomForestClassifier\n",
    "from pyspark.ml.tuning import ParamGridBuilder, TrainValidationSplit"
   ]
  },
  {
   "cell_type": "code",
   "execution_count": 49,
   "metadata": {},
   "outputs": [],
   "source": [
    "rf = RandomForestClassifier(labelCol='target',featuresCol=\"features\")"
   ]
  },
  {
   "cell_type": "code",
   "execution_count": 50,
   "metadata": {},
   "outputs": [],
   "source": [
    "model = rf.fit(x_train)"
   ]
  },
  {
   "cell_type": "code",
   "execution_count": 51,
   "metadata": {},
   "outputs": [],
   "source": [
    "prediction = model.transform(x_test)\n",
    "prediction.show(5)"
   ]
  },
  {
   "cell_type": "code",
   "execution_count": 52,
   "metadata": {},
   "outputs": [],
   "source": [
    "from pyspark.ml.evaluation import MulticlassClassificationEvaluator"
   ]
  },
  {
   "cell_type": "code",
   "execution_count": 53,
   "metadata": {},
   "outputs": [],
   "source": [
    "print('Accuracy: ', MulticlassClassificationEvaluator(labelCol='target',predictionCol=\"prediction\",metricName='accuracy').evaluate(prediction))"
   ]
  },
  {
   "cell_type": "code",
   "execution_count": 31,
   "metadata": {},
   "outputs": [
    {
     "name": "stdout",
     "output_type": "stream",
     "text": [
      "Accuracy:  0.8571428571428571\n"
     ]
    }
   ],
   "source": [
    "from pyspark.ml.classification import LogisticRegression\n",
    "lr = LogisticRegression(labelCol='target',featuresCol=\"features\")\n",
    "model_lr = lr.fit(x_train)\n",
    "prediction_lr = model_lr.transform(x_test)\n",
    "print('Accuracy: ', MulticlassClassificationEvaluator(labelCol='target',predictionCol=\"prediction\",metricName='accuracy').evaluate(prediction_lr))"
   ]
  },
  {
   "cell_type": "markdown",
   "metadata": {},
   "source": [
    "paramGrid = ParamGridBuilder()\\\n",
    "                                .addGrid(rf.maxDepth, [5, 10, 20]) \\\n",
    "                                .addGrid(rf.maxBins, [20, 32, 50]) \\\n",
    "                                .addGrid(rf.numTrees, [20, 40, 60 ]) \\\n",
    "                                .addGrid(rf.impurity, [\"gini\", \"entropy\"]) \\\n",
    "                                .addGrid(rf.minInstancesPerNode, [1, 5, 10]) \\\n",
    "                                .build()"
   ]
  },
  {
   "cell_type": "markdown",
   "metadata": {},
   "source": [
    "from pyspark.ml.evaluation import MulticlassClassificationEvaluator\n",
    "tvs = TrainValidationSplit( estimator=rf\n",
    "                           ,estimatorParamMaps=paramGrid\n",
    "                           ,evaluator=MulticlassClassificationEvaluator(labelCol='target')\n",
    "                           ,trainRatio=0.8)\n",
    "model = tvs.fit(x_train)\n",
    "model_predictions= model.transform(x_test)\n",
    "\n",
    "\n",
    "print('Accuracy: ', MulticlassClassificationEvaluator(labelCol='target',predictionCol=\"prediction\",metricName='accuracy').evaluate(model_predictions))"
   ]
  },
  {
   "cell_type": "code",
   "execution_count": 54,
   "metadata": {},
   "outputs": [
    {
     "data": {
      "text/plain": [
       "pyspark.ml.classification.RandomForestClassifier"
      ]
     },
     "execution_count": 54,
     "metadata": {},
     "output_type": "execute_result"
    }
   ],
   "source": [
    "import importlib\n",
    "module = importlib.import_module(\"pyspark.ml.classification\")\n",
    "model_name = \"RandomForestClassifier\"\n",
    "class_ref = getattr(module, model_name)\n",
    "class_ref"
   ]
  },
  {
   "cell_type": "code",
   "execution_count": 55,
   "metadata": {},
   "outputs": [],
   "source": [
    "rf = class_ref(labelCol='target',featuresCol=\"features\").fit(x_train)"
   ]
  },
  {
   "cell_type": "code",
   "execution_count": 56,
   "metadata": {},
   "outputs": [
    {
     "data": {
      "text/plain": [
       "pyspark.ml.evaluation.MulticlassClassificationEvaluator"
      ]
     },
     "execution_count": 56,
     "metadata": {},
     "output_type": "execute_result"
    }
   ],
   "source": [
    "module_eval = importlib.import_module(\"pyspark.ml.evaluation\")\n",
    "eval_name = \"MulticlassClassificationEvaluator\"\n",
    "class_ref_eval = getattr(module_eval, eval_name)\n",
    "class_ref_eval"
   ]
  },
  {
   "cell_type": "code",
   "execution_count": 57,
   "metadata": {},
   "outputs": [
    {
     "name": "stdout",
     "output_type": "stream",
     "text": [
      "0.8571428571428571\n"
     ]
    }
   ],
   "source": [
    "print(class_ref_eval(labelCol='target',predictionCol=\"prediction\",metricName='accuracy').evaluate(prediction))"
   ]
  },
  {
   "cell_type": "code",
   "execution_count": 58,
   "metadata": {},
   "outputs": [],
   "source": [
    "from Classification.constant import *"
   ]
  },
  {
   "cell_type": "code",
   "execution_count": 59,
   "metadata": {},
   "outputs": [],
   "source": [
    "from Classification.utils.util import read_yaml_file"
   ]
  },
  {
   "cell_type": "code",
   "execution_count": 60,
   "metadata": {},
   "outputs": [],
   "source": [
    "x = read_yaml_file(file_path=\"E:\\PROJECTS\\Spark-Project\\config\\model.yaml\")"
   ]
  },
  {
   "cell_type": "code",
   "execution_count": 61,
   "metadata": {},
   "outputs": [
    {
     "data": {
      "text/plain": [
       "{'class': 'RandomForestClassifier',\n",
       " 'module': 'pyspark.ml.classification',\n",
       " 'params': {'featuresCol': 'features',\n",
       "  'labelCol': 'target',\n",
       "  'predictionCol': 'prediction'},\n",
       " 'evaluation_module': 'pyspark.ml.evaluation',\n",
       " 'evaluation_class': 'MulticlassClassificationEvaluator',\n",
       " 'evaluationmetric': {'metricName': 'accuracy'}}"
      ]
     },
     "execution_count": 61,
     "metadata": {},
     "output_type": "execute_result"
    }
   ],
   "source": [
    "models = x['model_selection'][\"module_0\"]\n",
    "models"
   ]
  },
  {
   "cell_type": "code",
   "execution_count": 62,
   "metadata": {},
   "outputs": [],
   "source": [
    "RandomForestClassifier_model_name = models[MODULE_CLASS_KEY]\n",
    "RandomForestClassifier_model_library = models[MODULE_CLASS_MODULE_KEY]\n",
    "RandomForestClassifier_modeleval_library = models[MODULE_EVAL_KEY]\n",
    "RandomForestClassifier_modeleval_name = models[MODULE_EVAL_CLASS_KEY]\n",
    "RandomForestClassifier_model_params_features = models[MODULE_PARAMS_KEY][MODULE_PARAMS_FEATURECOL_KEY]\n",
    "RandomForestClassifier_model_params_labelcol = models[MODULE_PARAMS_KEY][MODULE_PARAMS_LABELCOL_KEY]\n",
    "RandomForestClassifier_model_params_predictionCol = models[MODULE_PARAMS_KEY][MODULE_PARAMS_PREDICTIONCOL_KEY]\n",
    "RandomForestClassifier_model_evaluation_metric = models[MODULE_EVAL_METRIC_KEY][MODULE_EVAL_METRIC_CLASS_KEY]"
   ]
  },
  {
   "cell_type": "code",
   "execution_count": 63,
   "metadata": {},
   "outputs": [
    {
     "name": "stdout",
     "output_type": "stream",
     "text": [
      "RandomForestClassifier\n",
      "pyspark.ml.evaluation\n",
      "pyspark.ml.classification\n",
      "features\n",
      "MulticlassClassificationEvaluator\n",
      "target\n",
      "accuracy\n",
      "prediction\n"
     ]
    }
   ],
   "source": [
    "print(RandomForestClassifier_model_name)\n",
    "print(RandomForestClassifier_modeleval_library)\n",
    "print(RandomForestClassifier_model_library)\n",
    "print(RandomForestClassifier_model_params_features)\n",
    "print(RandomForestClassifier_modeleval_name)\n",
    "print(RandomForestClassifier_model_params_labelcol)\n",
    "print(RandomForestClassifier_model_evaluation_metric)\n",
    "print(RandomForestClassifier_model_params_predictionCol)"
   ]
  },
  {
   "cell_type": "code",
   "execution_count": 64,
   "metadata": {},
   "outputs": [],
   "source": [
    "model_lr = x['model_selection'][\"module_1\"]"
   ]
  },
  {
   "cell_type": "code",
   "execution_count": 65,
   "metadata": {},
   "outputs": [],
   "source": [
    "LogisticRegression_model_name = model_lr[MODULE_CLASS_KEY]\n",
    "LogisticRegression_model_library = model_lr[MODULE_CLASS_MODULE_KEY]\n",
    "LogisticRegression_model_params_features = model_lr[MODULE_PARAMS_KEY][MODULE_PARAMS_FEATURECOL_KEY]\n",
    "LogisticRegression_model_params_labelcol = model_lr[MODULE_PARAMS_KEY][MODULE_PARAMS_LABELCOL_KEY]"
   ]
  },
  {
   "cell_type": "code",
   "execution_count": 71,
   "metadata": {},
   "outputs": [],
   "source": [
    "module_lr = importlib.import_module(LogisticRegression_model_library)\n",
    "class_ref = getattr(module_lr, LogisticRegression_model_name)\n",
    "lr = class_ref(labelCol=LogisticRegression_model_params_labelcol,featuresCol=LogisticRegression_model_params_features).fit(x_train)\n",
    "            "
   ]
  },
  {
   "cell_type": "code",
   "execution_count": 72,
   "metadata": {},
   "outputs": [],
   "source": [
    "module_rf = importlib.import_module(RandomForestClassifier_model_library)\n",
    "class_ref_rf = getattr(module_rf, RandomForestClassifier_model_name)\n",
    "rf = class_ref_rf(labelCol=RandomForestClassifier_model_params_labelcol,featuresCol=RandomForestClassifier_model_params_features).fit(x_train)"
   ]
  },
  {
   "cell_type": "code",
   "execution_count": 74,
   "metadata": {},
   "outputs": [],
   "source": [
    "x = [lr,rf]"
   ]
  },
  {
   "cell_type": "code",
   "execution_count": 75,
   "metadata": {},
   "outputs": [
    {
     "data": {
      "text/plain": [
       "RandomForestClassificationModel: uid=RandomForestClassifier_611b59497fb2, numTrees=20, numClasses=2, numFeatures=13"
      ]
     },
     "execution_count": 75,
     "metadata": {},
     "output_type": "execute_result"
    }
   ],
   "source": [
    "x[1]"
   ]
  },
  {
   "cell_type": "code",
   "execution_count": 76,
   "metadata": {},
   "outputs": [
    {
     "data": {
      "text/plain": [
       "LogisticRegressionModel: uid=LogisticRegression_3c9d3d1fecc0, numClasses=2, numFeatures=13"
      ]
     },
     "execution_count": 76,
     "metadata": {},
     "output_type": "execute_result"
    }
   ],
   "source": [
    "x[0]"
   ]
  },
  {
   "cell_type": "code",
   "execution_count": 8,
   "metadata": {},
   "outputs": [
    {
     "data": {
      "text/plain": [
       "pyspark.ml.classification.RandomForestClassifier"
      ]
     },
     "execution_count": 8,
     "metadata": {},
     "output_type": "execute_result"
    }
   ],
   "source": [
    "import importlib\n",
    "module = importlib.import_module(RandomForestClassifier_model_library)\n",
    "class_ref = getattr(module, RandomForestClassifier_model_name)\n",
    "class_ref"
   ]
  },
  {
   "cell_type": "code",
   "execution_count": 58,
   "metadata": {},
   "outputs": [],
   "source": [
    "rf = class_ref(labelCol=RandomForestClassifier_model_params_labelcol,featuresCol=RandomForestClassifier_model_params_features).fit(x_train)"
   ]
  },
  {
   "cell_type": "code",
   "execution_count": 59,
   "metadata": {},
   "outputs": [
    {
     "data": {
      "text/plain": [
       "pyspark.ml.evaluation.MulticlassClassificationEvaluator"
      ]
     },
     "execution_count": 59,
     "metadata": {},
     "output_type": "execute_result"
    }
   ],
   "source": [
    "module_eval = importlib.import_module(RandomForestClassifier_modeleval_library)\n",
    "class_ref_eval = getattr(module_eval, RandomForestClassifier_modeleval_name)\n",
    "class_ref_eval"
   ]
  },
  {
   "cell_type": "code",
   "execution_count": 60,
   "metadata": {},
   "outputs": [
    {
     "name": "stdout",
     "output_type": "stream",
     "text": [
      "0.8771929824561403\n"
     ]
    }
   ],
   "source": [
    "print(class_ref_eval(labelCol= RandomForestClassifier_model_params_labelcol,\n",
    "                    predictionCol=RandomForestClassifier_model_params_predictionCol,\n",
    "                    metricName= RandomForestClassifier_model_evaluation_metric).evaluate(prediction))"
   ]
  },
  {
   "cell_type": "code",
   "execution_count": null,
   "metadata": {},
   "outputs": [],
   "source": [
    "RandomForestClassifier_modeleval_library = models[MODULE_EVAL_KEY]\n",
    "RandomForestClassifier_modeleval_name = models[MODULE_EVAL_CLASS_KEY]\n",
    "RandomForestClassifier_model_params_predictionCol = models[MODULE_PARAMS_KEY][MODULE_PARAMS_PREDICTIONCOL_KEY]\n",
    "RandomForestClassifier_model_evaluation_metric = models[MODULE_EVAL_METRIC_KEY][MODULE_EVAL_METRIC_CLASS_KEY]\n"
   ]
  },
  {
   "cell_type": "code",
   "execution_count": null,
   "metadata": {},
   "outputs": [],
   "source": []
  }
 ],
 "metadata": {
  "kernelspec": {
   "display_name": "Python 3",
   "language": "python",
   "name": "python3"
  },
  "language_info": {
   "codemirror_mode": {
    "name": "ipython",
    "version": 3
   },
   "file_extension": ".py",
   "mimetype": "text/x-python",
   "name": "python",
   "nbconvert_exporter": "python",
   "pygments_lexer": "ipython3",
   "version": "3.9.0"
  },
  "orig_nbformat": 4,
  "vscode": {
   "interpreter": {
    "hash": "8d56a2e1583cc91001f51b4648654dfeeefc02c3b006ec9b840bc622a1ba33f5"
   }
  }
 },
 "nbformat": 4,
 "nbformat_minor": 2
}
